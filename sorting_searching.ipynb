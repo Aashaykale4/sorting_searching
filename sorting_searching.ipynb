{
 "cells": [
  {
   "cell_type": "code",
   "execution_count": 10,
   "metadata": {},
   "outputs": [
    {
     "data": {
      "text/plain": [
       "5"
      ]
     },
     "execution_count": 10,
     "metadata": {},
     "output_type": "execute_result"
    }
   ],
   "source": [
    "# Problem 1 :\n",
    "\n",
    "# Intersection of Two Sorted Arrays\n",
    "\n",
    "# Write a Python program to find the intersection of two sorted arrays.\n",
    "\n",
    "\n",
    "# Input:\n",
    "\n",
    "A = [1, 3, 5, 7, 9]\n",
    "\n",
    "B = [2, 4, 5, 8]\n",
    "\n",
    "# Output:\n",
    "\n",
    "# Intersection: [5]\n",
    "\n",
    "def Intersection(A,B):\n",
    "    for i in A:\n",
    "        for j in B:\n",
    "            if i == j:\n",
    "                return i\n",
    "    return False\n",
    "Intersection(A,B)"
   ]
  },
  {
   "cell_type": "code",
   "execution_count": 11,
   "metadata": {},
   "outputs": [
    {
     "data": {
      "text/plain": [
       "7"
      ]
     },
     "execution_count": 11,
     "metadata": {},
     "output_type": "execute_result"
    }
   ],
   "source": [
    "# Problem 2 : \n",
    "\n",
    "\n",
    "# Find the Kth Smallest Element\n",
    "\n",
    "# Write a Python function to find the kth smallest element in an unsorted list.\n",
    "\n",
    "\n",
    "# Input:\n",
    "\n",
    "# [12, 3, 1, 7, 8, 20], k = 3\n",
    "\n",
    "# Output:\n",
    "\n",
    "# The 3rd smallest element is 7\n",
    "def bubblesort(arr):\n",
    "    for i in range(len(arr)-1,0,-1):\n",
    "        for j in range(i):\n",
    "            if (arr[j]>arr[j+1]): \n",
    "                arr[j],arr[j+1]=arr[j+1],arr[j]\n",
    "    return arr\n",
    "\n",
    "def Kth_smallest_element(arr,k):\n",
    "    bubblesort(arr)\n",
    "    return arr[k-1]\n",
    "Kth_smallest_element([12, 3, 1, 7, 8, 20],3)"
   ]
  },
  {
   "cell_type": "code",
   "execution_count": 12,
   "metadata": {},
   "outputs": [
    {
     "ename": "SyntaxError",
     "evalue": "incomplete input (3022668559.py, line 27)",
     "output_type": "error",
     "traceback": [
      "\u001b[1;36m  Cell \u001b[1;32mIn[12], line 27\u001b[1;36m\u001b[0m\n\u001b[1;33m    \u001b[0m\n\u001b[1;37m    ^\u001b[0m\n\u001b[1;31mSyntaxError\u001b[0m\u001b[1;31m:\u001b[0m incomplete input\n"
     ]
    }
   ],
   "source": [
    "# Problem 3 : \n",
    "\n",
    "\n",
    "# Binary Search in a Rotated Sorted Array\n",
    "\n",
    "# Implement a Python program to perform a binary search on a rotated sorted array.\n",
    "\n",
    "\n",
    "# Input:\n",
    "\n",
    "# [4, 5, 6, 7, 8, 9, 1, 2, 3], 6\n",
    "\n",
    "# Output:\n",
    "\n",
    "# Element 6 found at index 2\n",
    "def binary_search(arr,left,right,target):\n",
    "    while(left<=right):\n",
    "        mid=left+(right-left)/2\n",
    "        if arr[mid]==target:\n",
    "            return mid\n",
    "        elif arr[mid<target]:\n",
    "            left=mid+1\n",
    "        else:\n",
    "            left=mid-1\n",
    "    return -1\n",
    "def BinarySearch_in_RotatedSorted_arr(arr,tar):\n",
    "    \n"
   ]
  },
  {
   "cell_type": "code",
   "execution_count": 13,
   "metadata": {},
   "outputs": [
    {
     "data": {
      "text/plain": [
       "(1, 2)"
      ]
     },
     "execution_count": 13,
     "metadata": {},
     "output_type": "execute_result"
    }
   ],
   "source": [
    "# Problem 4 : \n",
    "\n",
    "\n",
    "# Searching in a Matrix\n",
    "\n",
    "# Write a Python program that searches for a given element in a 2D matrix and returns its position.\n",
    "\n",
    "\n",
    "# Input:\n",
    "\n",
    "Matrix = [\n",
    "\n",
    "    [1, 3, 5],\n",
    "\n",
    "    [7, 9, 11],\n",
    "\n",
    "    [13, 15, 17]\n",
    "\n",
    "]\n",
    "\n",
    "Element = 11\n",
    "# Output:\n",
    "\n",
    "# Element 11 found at position (1, 2)\n",
    "def matrix_search(matrix,elment):\n",
    "    for i in range(len(matrix)):\n",
    "        for j in range(len(matrix)):\n",
    "            if matrix[i][j]==elment:\n",
    "                return(i,j)\n",
    "    return False\n",
    "matrix_search(Matrix,Element)\n"
   ]
  },
  {
   "cell_type": "code",
   "execution_count": 5,
   "metadata": {},
   "outputs": [
    {
     "name": "stdout",
     "output_type": "stream",
     "text": [
      "['kiwi', 'apple', 'grape', 'banana', 'orange']\n"
     ]
    }
   ],
   "source": [
    "# Problem 5 : \n",
    "\n",
    "\n",
    "# Sorting Strings by Length\n",
    "\n",
    "# Write a Python program that takes a list of strings and sorts them based on their length.\n",
    "\n",
    "\n",
    "# Input:\n",
    "\n",
    "l=['apple', 'banana', 'kiwi', 'orange', 'grape']\n",
    "\n",
    "\n",
    "# Output:\n",
    "\n",
    "# ['kiwi', 'grape', 'apple', 'banana', 'orange']\n",
    "def bubble_sort(strn):\n",
    "    n = len(strn)\n",
    "    for i in range(n):\n",
    "        for j in range(0, n-i-1):\n",
    "            if len(strn[j]) > len(strn[j+1]):\n",
    "                # Swap the strings\n",
    "                strn[j], strn[j+1] = strn[j+1], strn[j]\n",
    "\n",
    "# Input list\n",
    "l = ['apple', 'banana', 'kiwi', 'orange', 'grape']\n",
    "\n",
    "# Sorting using bubble sort\n",
    "bubble_sort(l)\n",
    "\n",
    "# Output the sorted list\n",
    "print(l)\n",
    "\n"
   ]
  },
  {
   "cell_type": "code",
   "execution_count": 6,
   "metadata": {},
   "outputs": [
    {
     "name": "stdout",
     "output_type": "stream",
     "text": [
      "Peak element is 20\n"
     ]
    }
   ],
   "source": [
    "# Problem 9 : \n",
    "\n",
    "\n",
    "# Implement a Python function to find a peak element in an array. A peak element is an element that is greater \n",
    "# than or equal to its neighbors.\n",
    "\n",
    "\n",
    "# Input:\n",
    "\n",
    "p=[1, 3, 20, 4, 1, 0]\n",
    "\n",
    "# Output:\n",
    "\n",
    "# Peak element is 20\n",
    "def find_peak(arr):\n",
    "    n = len(arr)\n",
    "    \n",
    "    # Check if the first or last element is a peak\n",
    "    if arr[0] >= arr[1]:\n",
    "        return arr[0]\n",
    "    if arr[n - 1] >= arr[n - 2]:\n",
    "        return arr[n - 1]\n",
    "    \n",
    "    # Iterate through the array to find a peak\n",
    "    for i in range(1, n - 1):\n",
    "        if arr[i] >= arr[i - 1] and arr[i] >= arr[i + 1]:\n",
    "            return arr[i]\n",
    "\n",
    "# Input array\n",
    "p = [1, 3, 20, 4, 1, 0]\n",
    "\n",
    "# Find the peak element\n",
    "peak = find_peak(p)\n",
    "\n",
    "# Output the result\n",
    "print(\"Peak element is\", peak)\n"
   ]
  },
  {
   "cell_type": "code",
   "execution_count": 7,
   "metadata": {},
   "outputs": [
    {
     "name": "stdout",
     "output_type": "stream",
     "text": [
      "Element 5 found at index 5\n"
     ]
    }
   ],
   "source": [
    "# Problem 10 : \n",
    "\n",
    "\n",
    "# Search in a Nearly Sorted Array\n",
    "\n",
    "\n",
    "# Implement a Python program to perform a binary search in a nearly sorted array. In a nearly sorted array, each \n",
    "# element is at most k positions away from its sorted position.\n",
    "\n",
    "\n",
    "# Input:\n",
    "\n",
    "# [2, 1, 3, 4, 6, 5, 7], k = 1\n",
    "\n",
    "\n",
    "# Output:\n",
    "\n",
    "# Element 5 found at index 4\n",
    "\n",
    "def binary_search(arr, target, k):\n",
    "    left, right = 0, len(arr) - 1\n",
    "\n",
    "    while left <= right:\n",
    "        mid = left + (right - left) // 2\n",
    "\n",
    "        if arr[mid] == target:\n",
    "            return mid\n",
    "\n",
    "        for i in range(1, k + 1):\n",
    "            if mid - i >= left and arr[mid - i] == target:\n",
    "                return mid - i\n",
    "            if mid + i <= right and arr[mid + i] == target:\n",
    "                return mid + i\n",
    "\n",
    "        if arr[mid] < target:\n",
    "            left = mid + 1\n",
    "        else:\n",
    "            right = mid - 1\n",
    "\n",
    "    return -1\n",
    "\n",
    "# Input array and k\n",
    "arr = [2, 1, 3, 4, 6, 5, 7]\n",
    "target = 5\n",
    "k = 1\n",
    "\n",
    "# Perform binary search\n",
    "result = binary_search(arr, target, k)\n",
    "\n",
    "# Output the result\n",
    "if result != -1:\n",
    "    print(f\"Element {target} found at index {result}\")\n",
    "else:\n",
    "    print(f\"Element {target} not found in the array\")\n"
   ]
  },
  {
   "cell_type": "code",
   "execution_count": 2,
   "metadata": {},
   "outputs": [
    {
     "name": "stdout",
     "output_type": "stream",
     "text": [
      "[5, 6, 7, 11, 12, 13]\n"
     ]
    }
   ],
   "source": [
    "#Problem 6 : \n",
    "\n",
    "# Implementing the merge sort ( will be discussed in the class )\n",
    "\n",
    "def mergeSort(arr):\n",
    "    #base\n",
    "    if (len(arr)<=1):\n",
    "        return\n",
    "    #Divide into Two parts\n",
    "    mid=len(arr)//2\n",
    "\n",
    "    #left half of arr\n",
    "    left=arr[:mid]\n",
    "\n",
    "    #right half of arr\n",
    "    right= arr[mid:]\n",
    "\n",
    "    # sort the left \n",
    "    mergeSort(left)\n",
    "\n",
    "    # sort the right  \n",
    "    mergeSort(right)\n",
    "\n",
    "    #logic merge both sorted left &right\n",
    "    merge(left,right ,arr)\n",
    "\n",
    "def merge(left,right,arr):\n",
    "    i=0#index of left\n",
    "    j=0 #index of left\n",
    "    k=0 #index of result arr\n",
    "    while i<len(left ) and j<len(right):\n",
    "        if (left[i])<=(right[j]):\n",
    "            arr[k]=left[i]\n",
    "            i+=1\n",
    "        else:\n",
    "            arr[k]=right[j]\n",
    "            j+=1\n",
    "        k+=1\n",
    "    #check if any element is left in left arr\n",
    "    while i<len(left):\n",
    "        arr[k]=left[i]\n",
    "        i+=1\n",
    "        k+=1\n",
    "    #check if any element is left in right arr\n",
    "    while j<len(right):\n",
    "        arr[k]=right[j]\n",
    "        j+=1\n",
    "        k+=1\n",
    "l1=[12,11,13,5,6,7]\n",
    "mergeSort(l1)\n",
    "print(l1)"
   ]
  },
  {
   "cell_type": "code",
   "execution_count": 3,
   "metadata": {},
   "outputs": [
    {
     "name": "stdout",
     "output_type": "stream",
     "text": [
      "[5, 6, 7, 11, 12, 13]\n"
     ]
    }
   ],
   "source": [
    "# Problem 7 : \n",
    "\n",
    "# Implementing the quick sort ( will be discussed in the class )\n",
    "\n",
    "\n",
    "def quickSort(arr,low,high):\n",
    "    #Base \n",
    "    if low >= high:\n",
    "        return \n",
    "    #find pivot point and re arrange the array\n",
    "    pi=partition(arr,low,high)\n",
    "    #left of pi will be all small\n",
    "    #right of pi will be all big\n",
    "    \n",
    "    #sort left\n",
    "    quickSort(arr,low,pi-1)\n",
    "\n",
    "    #sort right \n",
    "    quickSort(arr,pi+1,high)\n",
    "def partition(arr,low,high):\n",
    "    #choose element\n",
    "    pivot=arr[high]\n",
    "    #traverse entire arr\n",
    "    #compare teh element with pivot element\n",
    "    i=low-1\n",
    "    for j in range(low,high):\n",
    "        if (arr[j]<=pivot):\n",
    "            #we need to see it in left part of arr\n",
    "            i=i+1#position ehere arr[j]should be\n",
    "            arr[i],arr[j]=arr[j],arr[i]\n",
    "    arr[i+1],arr[high]=arr[high],arr[i+1]\n",
    "    return i+1\n",
    "quickSort(l1,0,len(l1)-1)\n",
    "print(l1)"
   ]
  },
  {
   "cell_type": "code",
   "execution_count": 1,
   "metadata": {},
   "outputs": [
    {
     "name": "stdout",
     "output_type": "stream",
     "text": [
      "hello world\n"
     ]
    }
   ],
   "source": [
    "print(\"hello world\")"
   ]
  },
  {
   "cell_type": "code",
   "execution_count": null,
   "metadata": {},
   "outputs": [],
   "source": []
  }
 ],
 "metadata": {
  "kernelspec": {
   "display_name": "Python 3",
   "language": "python",
   "name": "python3"
  },
  "language_info": {
   "codemirror_mode": {
    "name": "ipython",
    "version": 3
   },
   "file_extension": ".py",
   "mimetype": "text/x-python",
   "name": "python",
   "nbconvert_exporter": "python",
   "pygments_lexer": "ipython3",
   "version": "3.10.7"
  }
 },
 "nbformat": 4,
 "nbformat_minor": 2
}
